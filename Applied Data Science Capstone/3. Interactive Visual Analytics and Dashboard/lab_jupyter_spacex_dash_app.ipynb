{
 "cells": [
  {
   "cell_type": "code",
   "execution_count": 1,
   "id": "bec809d3",
   "metadata": {},
   "outputs": [],
   "source": [
    "# spacex_launch_dash = wget.download(\"https://cf-courses-data.s3.us.cloud-object-storage.appdomain.cloud/IBM-DS0321EN-SkillsNetwork/datasets/spacex_launch_dash.csv\")\n",
    "# spacex_dash_app = wget.download(\"https://cf-courses-data.s3.us.cloud-object-storage.appdomain.cloud/IBM-DS0321EN-SkillsNetwork/labs/module_3/spacex_dash_app.py\")"
   ]
  },
  {
   "cell_type": "code",
   "execution_count": 2,
   "id": "e15f8147",
   "metadata": {},
   "outputs": [],
   "source": [
    "# Import required libraries\n",
    "import pandas as pd\n",
    "import dash\n",
    "from dash import dcc\n",
    "from dash import html\n",
    "from dash.dependencies import Input, Output\n",
    "from jupyter_dash import JupyterDash # I'm using the anaconda distribution of jupyter for this lab\n",
    "import plotly.express as px"
   ]
  },
  {
   "cell_type": "code",
   "execution_count": 3,
   "id": "0945b925",
   "metadata": {},
   "outputs": [],
   "source": [
    "# Read the airline data into pandas dataframe\n",
    "spacex_df = pd.read_csv(\"spacex_launch_dash.csv\")\n",
    "spacex_df.drop(columns=['Unnamed: 0'],inplace=True)\n",
    "max_payload = spacex_df['Payload Mass (kg)'].max()\n",
    "min_payload = spacex_df['Payload Mass (kg)'].min()"
   ]
  },
  {
   "cell_type": "code",
   "execution_count": 4,
   "id": "555f22ca",
   "metadata": {
    "scrolled": true
   },
   "outputs": [
    {
     "data": {
      "text/html": [
       "<div>\n",
       "<style scoped>\n",
       "    .dataframe tbody tr th:only-of-type {\n",
       "        vertical-align: middle;\n",
       "    }\n",
       "\n",
       "    .dataframe tbody tr th {\n",
       "        vertical-align: top;\n",
       "    }\n",
       "\n",
       "    .dataframe thead th {\n",
       "        text-align: right;\n",
       "    }\n",
       "</style>\n",
       "<table border=\"1\" class=\"dataframe\">\n",
       "  <thead>\n",
       "    <tr style=\"text-align: right;\">\n",
       "      <th></th>\n",
       "      <th>0</th>\n",
       "      <th>1</th>\n",
       "      <th>2</th>\n",
       "      <th>3</th>\n",
       "      <th>4</th>\n",
       "    </tr>\n",
       "  </thead>\n",
       "  <tbody>\n",
       "    <tr>\n",
       "      <th>Flight Number</th>\n",
       "      <td>1</td>\n",
       "      <td>2</td>\n",
       "      <td>3</td>\n",
       "      <td>4</td>\n",
       "      <td>5</td>\n",
       "    </tr>\n",
       "    <tr>\n",
       "      <th>Launch Site</th>\n",
       "      <td>CCAFS LC-40</td>\n",
       "      <td>CCAFS LC-40</td>\n",
       "      <td>CCAFS LC-40</td>\n",
       "      <td>CCAFS LC-40</td>\n",
       "      <td>CCAFS LC-40</td>\n",
       "    </tr>\n",
       "    <tr>\n",
       "      <th>class</th>\n",
       "      <td>0</td>\n",
       "      <td>0</td>\n",
       "      <td>0</td>\n",
       "      <td>0</td>\n",
       "      <td>0</td>\n",
       "    </tr>\n",
       "    <tr>\n",
       "      <th>Payload Mass (kg)</th>\n",
       "      <td>0.0</td>\n",
       "      <td>0.0</td>\n",
       "      <td>525.0</td>\n",
       "      <td>500.0</td>\n",
       "      <td>677.0</td>\n",
       "    </tr>\n",
       "    <tr>\n",
       "      <th>Booster Version</th>\n",
       "      <td>F9 v1.0  B0003</td>\n",
       "      <td>F9 v1.0  B0004</td>\n",
       "      <td>F9 v1.0  B0005</td>\n",
       "      <td>F9 v1.0  B0006</td>\n",
       "      <td>F9 v1.0  B0007</td>\n",
       "    </tr>\n",
       "    <tr>\n",
       "      <th>Booster Version Category</th>\n",
       "      <td>v1.0</td>\n",
       "      <td>v1.0</td>\n",
       "      <td>v1.0</td>\n",
       "      <td>v1.0</td>\n",
       "      <td>v1.0</td>\n",
       "    </tr>\n",
       "  </tbody>\n",
       "</table>\n",
       "</div>"
      ],
      "text/plain": [
       "                                       0               1               2  \\\n",
       "Flight Number                          1               2               3   \n",
       "Launch Site                  CCAFS LC-40     CCAFS LC-40     CCAFS LC-40   \n",
       "class                                  0               0               0   \n",
       "Payload Mass (kg)                    0.0             0.0           525.0   \n",
       "Booster Version           F9 v1.0  B0003  F9 v1.0  B0004  F9 v1.0  B0005   \n",
       "Booster Version Category            v1.0            v1.0            v1.0   \n",
       "\n",
       "                                       3               4  \n",
       "Flight Number                          4               5  \n",
       "Launch Site                  CCAFS LC-40     CCAFS LC-40  \n",
       "class                                  0               0  \n",
       "Payload Mass (kg)                  500.0           677.0  \n",
       "Booster Version           F9 v1.0  B0006  F9 v1.0  B0007  \n",
       "Booster Version Category            v1.0            v1.0  "
      ]
     },
     "execution_count": 4,
     "metadata": {},
     "output_type": "execute_result"
    }
   ],
   "source": [
    "spacex_df.head().T"
   ]
  },
  {
   "cell_type": "code",
   "execution_count": 5,
   "id": "8dbb2b4d",
   "metadata": {
    "scrolled": true
   },
   "outputs": [
    {
     "data": {
      "text/plain": [
       "array(['CCAFS LC-40', 'VAFB SLC-4E', 'KSC LC-39A', 'CCAFS SLC-40'],\n",
       "      dtype=object)"
      ]
     },
     "execution_count": 5,
     "metadata": {},
     "output_type": "execute_result"
    }
   ],
   "source": [
    "spacex_df['Launch Site'].unique()"
   ]
  },
  {
   "cell_type": "code",
   "execution_count": 6,
   "id": "ace43855",
   "metadata": {
    "scrolled": true
   },
   "outputs": [
    {
     "data": {
      "text/plain": [
       "Launch Site\n",
       "CCAFS LC-40     0.269231\n",
       "CCAFS SLC-40    0.428571\n",
       "KSC LC-39A      0.769231\n",
       "VAFB SLC-4E     0.400000\n",
       "Name: class, dtype: float64"
      ]
     },
     "execution_count": 6,
     "metadata": {},
     "output_type": "execute_result"
    }
   ],
   "source": [
    "spacex_df.groupby('Launch Site')['class'].mean()"
   ]
  },
  {
   "cell_type": "code",
   "execution_count": 7,
   "id": "a768cf1b",
   "metadata": {},
   "outputs": [
    {
     "name": "stdout",
     "output_type": "stream",
     "text": [
      "0.0\n",
      "9600.0\n"
     ]
    }
   ],
   "source": [
    "print(min_payload)\n",
    "print(max_payload)"
   ]
  },
  {
   "cell_type": "code",
   "execution_count": null,
   "id": "9aa8408a",
   "metadata": {
    "scrolled": false
   },
   "outputs": [],
   "source": [
    "# Create a dash application\n",
    "app = JupyterDash(__name__)\n",
    "JupyterDash.infer_jupyter_proxy_config()\n",
    "\n",
    "# Create an app layout\n",
    "app.layout = html.Div(children=[html.H1('SpaceX Launch Records Dashboard',\n",
    "                                        style={'textAlign': 'center', 'color': '#503D36',\n",
    "                                               'font-size': 40}),\n",
    "                                # TASK 1: Add a dropdown list to enable Launch Site selection\n",
    "                                # The default select value is for ALL sites\n",
    "                                # dcc.Dropdown(id='site-dropdown',...)\n",
    "                                html.Div(dcc.Dropdown(id='site-dropdown',\n",
    "                                                      options=[\n",
    "                                                          {'label':'All Sites','value':'ALL'},\n",
    "                                                          {'label':'CCAFS LC-40','value':'CCAFS LC-40'},\n",
    "                                                          {'label':'CCAFS SLC-40','value':'CCAFS SLC-40'},\n",
    "                                                          {'label':'KSC LC-39A','value':'KSC LC-39A'},\n",
    "                                                          {'label':'VAFB SLC-4E','value':'VAFB SLC-4E'}],\n",
    "                                                      value='ALL', \n",
    "                                                      placeholder='Select a Launch Site here', \n",
    "                                                      searchable = True)),\n",
    "                                html.Br(),\n",
    "\n",
    "                                # TASK 2: Add a pie chart to show the total successful launches count for all sites\n",
    "                                # If a specific launch site was selected, show the Success vs. Failed counts for the site\n",
    "                                html.Div(dcc.Graph(id='success-pie-chart')),\n",
    "                                html.Br(),\n",
    "\n",
    "                                html.P(\"Payload range (Kg):\"),\n",
    "                                # TASK 3: Add a slider to select payload range\n",
    "                                #dcc.RangeSlider(id='payload-slider',...)\n",
    "                                html.Div(dcc.RangeSlider(id='payload-slider',\n",
    "                                                         min=0, \n",
    "                                                         max=10000, \n",
    "                                                         step=1000, \n",
    "                                                         marks={0: '0', \n",
    "                                                                2500: '2.500', \n",
    "                                                                5000: '5.000',\n",
    "                                                                7500: '7.500',\n",
    "                                                                10000: '10.000'},\n",
    "                                                         value=[min_payload, max_payload])),\n",
    "                                \n",
    "                                # TASK 4: Add a scatter chart to show the correlation between payload and launch success\n",
    "                                html.Div(dcc.Graph(id='success-payload-scatter-chart')),\n",
    "                                ])\n",
    "\n",
    "# TASK 2:\n",
    "# Add a callback function for `site-dropdown` as input, `success-pie-chart` as output\n",
    "# Function decorator to specify function input and output\n",
    "@app.callback(Output(component_id='success-pie-chart', component_property='figure'),\n",
    "              Input(component_id='site-dropdown', component_property='value'))\n",
    "def get_pie_chart(entered_site):\n",
    "    if entered_site == 'ALL':\n",
    "        filtered_df = spacex_df\n",
    "        fig = px.pie(filtered_df, values='class', \n",
    "                     names = 'Launch Site', \n",
    "                     title = 'Total Success Launches by Site')\n",
    "        return fig\n",
    "    else:\n",
    "        filtered_df = spacex_df[spacex_df['Launch Site'] == entered_site]\n",
    "        success = len(filtered_df[filtered_df['class']==1])\n",
    "        failure = len(filtered_df[filtered_df['class']==0])\n",
    "        fig = px.pie(filtered_df, values=[success,failure], \n",
    "                     names = ['Success','Failure'], \n",
    "                     title = f'Total Success Launches for Site {entered_site}')\n",
    "        return fig\n",
    "        # return the outcomes piechart for a selected site\n",
    "\n",
    "# TASK 4:\n",
    "# Add a callback function for `site-dropdown` and `payload-slider` as inputs, `success-payload-scatter-chart` as output\n",
    "@app.callback(Output(component_id='success-payload-scatter-chart', component_property='figure'),\n",
    "              [Input(component_id='site-dropdown', component_property='value'), \n",
    "               Input(component_id='payload-slider', component_property='value')])\n",
    "def get_scatter_chart(entered_site,payload_slider):\n",
    "    low, high = payload_slider \n",
    "    if entered_site == 'ALL':\n",
    "        filtered_df = spacex_df\n",
    "        mask = (filtered_df['Payload Mass (kg)'] > low) & (filtered_df['Payload Mass (kg)'] < high)\n",
    "        fig = px.scatter(filtered_df[mask], \n",
    "                         x = 'Payload Mass (kg)', \n",
    "                         y = 'class',\n",
    "                         color = 'Booster Version Category', \n",
    "                         title = 'Correlation between Payload and Success for All Sites')\n",
    "        return fig\n",
    "    else:\n",
    "        filtered_df = spacex_df[spacex_df['Launch Site'] == entered_site]\n",
    "        mask = (filtered_df['Payload Mass (kg)'] > low) & (filtered_df['Payload Mass (kg)'] < high)\n",
    "        fig = px.scatter(filtered_df[mask], \n",
    "                         x = 'Payload Mass (kg)', \n",
    "                         y = 'class',\n",
    "                         color = 'Booster Version Category',\n",
    "                         title = f'Correlation between Payload and Success for Site {entered_site}')\n",
    "        return fig\n",
    "    \n",
    "# Run the app\n",
    "if __name__ == '__main__':\n",
    "    # REVIEW8: Adding dev_tools_ui=False, dev_tools_props_check=False can prevent error appearing before calling callback function\n",
    "    app.run_server(mode=\"inline\", host=\"localhost\", debug=False, dev_tools_ui=False, dev_tools_props_check=False)"
   ]
  },
  {
   "cell_type": "code",
   "execution_count": null,
   "id": "e6037a07",
   "metadata": {},
   "outputs": [],
   "source": []
  }
 ],
 "metadata": {
  "kernelspec": {
   "display_name": "Python 3 (ipykernel)",
   "language": "python",
   "name": "python3"
  },
  "language_info": {
   "codemirror_mode": {
    "name": "ipython",
    "version": 3
   },
   "file_extension": ".py",
   "mimetype": "text/x-python",
   "name": "python",
   "nbconvert_exporter": "python",
   "pygments_lexer": "ipython3",
   "version": "3.9.16"
  }
 },
 "nbformat": 4,
 "nbformat_minor": 5
}
